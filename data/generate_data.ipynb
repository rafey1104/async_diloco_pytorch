{
 "cells": [
  {
   "cell_type": "code",
   "execution_count": 1,
   "id": "6a2e89d3",
   "metadata": {},
   "outputs": [],
   "source": [
    "import torch\n",
    "import torchvision\n",
    "import torchvision.transforms as transforms\n",
    "\n",
    "def get_cifar10_loaders(batch_size=128, num_workers=2, data_dir='./data'):\n",
    "    transform = transforms.Compose([\n",
    "        transforms.ToTensor(),                         # Convert to [0,1] tensor\n",
    "        transforms.Normalize((0.5, 0.5, 0.5),           # Mean normalization\n",
    "                             (0.5, 0.5, 0.5))           # Std normalization\n",
    "    ])\n",
    "\n",
    "    trainset = torchvision.datasets.CIFAR10(\n",
    "        root=data_dir, train=True, download=True, transform=transform)\n",
    "\n",
    "    testset = torchvision.datasets.CIFAR10(\n",
    "        root=data_dir, train=False, download=True, transform=transform)\n",
    "\n",
    "    trainloader = torch.utils.data.DataLoader(\n",
    "        trainset, batch_size=batch_size, shuffle=True, num_workers=num_workers)\n",
    "\n",
    "    testloader = torch.utils.data.DataLoader(\n",
    "        testset, batch_size=batch_size, shuffle=False, num_workers=num_workers)\n",
    "\n",
    "    return trainloader, testloader\n"
   ]
  },
  {
   "cell_type": "code",
   "execution_count": 2,
   "id": "ce2ac32b",
   "metadata": {},
   "outputs": [
    {
     "name": "stdout",
     "output_type": "stream",
     "text": [
      "Downloading https://www.cs.toronto.edu/~kriz/cifar-10-python.tar.gz to ./data\\cifar-10-python.tar.gz\n"
     ]
    },
    {
     "name": "stderr",
     "output_type": "stream",
     "text": [
      "100.0%\n"
     ]
    },
    {
     "name": "stdout",
     "output_type": "stream",
     "text": [
      "Extracting ./data\\cifar-10-python.tar.gz to ./data\n",
      "Files already downloaded and verified\n",
      "torch.Size([64, 3, 32, 32])\n"
     ]
    }
   ],
   "source": [
    "# from datasets.cifar_loader import get_cifar10_loaders\n",
    "\n",
    "trainloader, testloader = get_cifar10_loaders(batch_size=64)\n",
    "\n",
    "images, labels = next(iter(trainloader))\n",
    "print(images.shape)  # Expected: [64, 3, 32, 32]"
   ]
  }
 ],
 "metadata": {
  "kernelspec": {
   "display_name": "async-diloco-env",
   "language": "python",
   "name": "python3"
  },
  "language_info": {
   "codemirror_mode": {
    "name": "ipython",
    "version": 3
   },
   "file_extension": ".py",
   "mimetype": "text/x-python",
   "name": "python",
   "nbconvert_exporter": "python",
   "pygments_lexer": "ipython3",
   "version": "3.10.16"
  }
 },
 "nbformat": 4,
 "nbformat_minor": 5
}
